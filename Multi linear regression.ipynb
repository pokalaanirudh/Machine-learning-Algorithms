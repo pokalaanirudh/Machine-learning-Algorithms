{
 "cells": [
  {
   "cell_type": "code",
   "execution_count": 1,
   "metadata": {},
   "outputs": [],
   "source": [
    "import pandas as pd\n",
    "import numpy as np\n",
    "import matplotlib.pyplot as plt\n",
    "from sklearn.model_selection import train_test_split\n",
    "from sklearn.linear_model import LinearRegression\n",
    "from sklearn.preprocessing import LabelEncoder,OneHotEncoder\n",
    "import statsmodels.formula.api as sm"
   ]
  },
  {
   "cell_type": "code",
   "execution_count": 2,
   "metadata": {},
   "outputs": [],
   "source": [
    "data = pd.read_csv(\"Startups.csv\")"
   ]
  },
  {
   "cell_type": "code",
   "execution_count": 3,
   "metadata": {},
   "outputs": [
    {
     "data": {
      "text/html": [
       "<div>\n",
       "<style scoped>\n",
       "    .dataframe tbody tr th:only-of-type {\n",
       "        vertical-align: middle;\n",
       "    }\n",
       "\n",
       "    .dataframe tbody tr th {\n",
       "        vertical-align: top;\n",
       "    }\n",
       "\n",
       "    .dataframe thead th {\n",
       "        text-align: right;\n",
       "    }\n",
       "</style>\n",
       "<table border=\"1\" class=\"dataframe\">\n",
       "  <thead>\n",
       "    <tr style=\"text-align: right;\">\n",
       "      <th></th>\n",
       "      <th>R&amp;D Spend</th>\n",
       "      <th>Administration</th>\n",
       "      <th>Marketing Spend</th>\n",
       "      <th>State</th>\n",
       "      <th>Profit</th>\n",
       "    </tr>\n",
       "  </thead>\n",
       "  <tbody>\n",
       "    <tr>\n",
       "      <th>0</th>\n",
       "      <td>165349.20</td>\n",
       "      <td>136897.80</td>\n",
       "      <td>471784.10</td>\n",
       "      <td>New York</td>\n",
       "      <td>192261.83</td>\n",
       "    </tr>\n",
       "    <tr>\n",
       "      <th>1</th>\n",
       "      <td>162597.70</td>\n",
       "      <td>151377.59</td>\n",
       "      <td>443898.53</td>\n",
       "      <td>California</td>\n",
       "      <td>191792.06</td>\n",
       "    </tr>\n",
       "    <tr>\n",
       "      <th>2</th>\n",
       "      <td>153441.51</td>\n",
       "      <td>101145.55</td>\n",
       "      <td>407934.54</td>\n",
       "      <td>Florida</td>\n",
       "      <td>191050.39</td>\n",
       "    </tr>\n",
       "    <tr>\n",
       "      <th>3</th>\n",
       "      <td>144372.41</td>\n",
       "      <td>118671.85</td>\n",
       "      <td>383199.62</td>\n",
       "      <td>New York</td>\n",
       "      <td>182901.99</td>\n",
       "    </tr>\n",
       "    <tr>\n",
       "      <th>4</th>\n",
       "      <td>142107.34</td>\n",
       "      <td>91391.77</td>\n",
       "      <td>366168.42</td>\n",
       "      <td>Florida</td>\n",
       "      <td>166187.94</td>\n",
       "    </tr>\n",
       "    <tr>\n",
       "      <th>5</th>\n",
       "      <td>131876.90</td>\n",
       "      <td>99814.71</td>\n",
       "      <td>362861.36</td>\n",
       "      <td>New York</td>\n",
       "      <td>156991.12</td>\n",
       "    </tr>\n",
       "    <tr>\n",
       "      <th>6</th>\n",
       "      <td>134615.46</td>\n",
       "      <td>147198.87</td>\n",
       "      <td>127716.82</td>\n",
       "      <td>California</td>\n",
       "      <td>156122.51</td>\n",
       "    </tr>\n",
       "    <tr>\n",
       "      <th>7</th>\n",
       "      <td>130298.13</td>\n",
       "      <td>145530.06</td>\n",
       "      <td>323876.68</td>\n",
       "      <td>Florida</td>\n",
       "      <td>155752.60</td>\n",
       "    </tr>\n",
       "    <tr>\n",
       "      <th>8</th>\n",
       "      <td>120542.52</td>\n",
       "      <td>148718.95</td>\n",
       "      <td>311613.29</td>\n",
       "      <td>New York</td>\n",
       "      <td>152211.77</td>\n",
       "    </tr>\n",
       "    <tr>\n",
       "      <th>9</th>\n",
       "      <td>123334.88</td>\n",
       "      <td>108679.17</td>\n",
       "      <td>304981.62</td>\n",
       "      <td>California</td>\n",
       "      <td>149759.96</td>\n",
       "    </tr>\n",
       "  </tbody>\n",
       "</table>\n",
       "</div>"
      ],
      "text/plain": [
       "   R&D Spend  Administration  Marketing Spend       State     Profit\n",
       "0  165349.20       136897.80        471784.10    New York  192261.83\n",
       "1  162597.70       151377.59        443898.53  California  191792.06\n",
       "2  153441.51       101145.55        407934.54     Florida  191050.39\n",
       "3  144372.41       118671.85        383199.62    New York  182901.99\n",
       "4  142107.34        91391.77        366168.42     Florida  166187.94\n",
       "5  131876.90        99814.71        362861.36    New York  156991.12\n",
       "6  134615.46       147198.87        127716.82  California  156122.51\n",
       "7  130298.13       145530.06        323876.68     Florida  155752.60\n",
       "8  120542.52       148718.95        311613.29    New York  152211.77\n",
       "9  123334.88       108679.17        304981.62  California  149759.96"
      ]
     },
     "execution_count": 3,
     "metadata": {},
     "output_type": "execute_result"
    }
   ],
   "source": [
    "data.head(10)"
   ]
  },
  {
   "cell_type": "code",
   "execution_count": 4,
   "metadata": {},
   "outputs": [],
   "source": [
    "real_X = data.iloc[:,0:4].values\n",
    "real_Y = data.iloc[:,4].values"
   ]
  },
  {
   "cell_type": "code",
   "execution_count": 5,
   "metadata": {},
   "outputs": [
    {
     "data": {
      "text/plain": [
       "array([[0., 0., 0., ..., 0., 0., 1.],\n",
       "       [0., 0., 0., ..., 1., 0., 0.],\n",
       "       [0., 0., 0., ..., 0., 1., 0.],\n",
       "       ...,\n",
       "       [1., 0., 0., ..., 1., 0., 0.],\n",
       "       [0., 1., 0., ..., 0., 0., 1.],\n",
       "       [1., 0., 0., ..., 1., 0., 0.]])"
      ]
     },
     "execution_count": 5,
     "metadata": {},
     "output_type": "execute_result"
    }
   ],
   "source": [
    "le = LabelEncoder()\n",
    "real_X[:,3] = le.fit_transform(real_X[:,3])\n",
    "oneHE = OneHotEncoder()\n",
    "real_X = oneHE.fit_transform(real_X).toarray() #iam getting error since here transform should be for 3 categories only.\n",
    "real_X"
   ]
  },
  {
   "cell_type": "code",
   "execution_count": 6,
   "metadata": {},
   "outputs": [],
   "source": [
    "real_X = real_X[:,1:] # for eleminating dummy variables d-1 variables are taken."
   ]
  },
  {
   "cell_type": "code",
   "execution_count": 8,
   "metadata": {},
   "outputs": [],
   "source": [
    "train_X ,test_X, train_Y, test_Y = train_test_split(real_X, real_Y, train_size=0.7, random_state=0)"
   ]
  },
  {
   "cell_type": "code",
   "execution_count": 9,
   "metadata": {},
   "outputs": [
    {
     "data": {
      "text/plain": [
       "LinearRegression(copy_X=True, fit_intercept=True, n_jobs=None, normalize=False)"
      ]
     },
     "execution_count": 9,
     "metadata": {},
     "output_type": "execute_result"
    }
   ],
   "source": [
    "mlr = LinearRegression()\n",
    "mlr.fit(train_X,train_Y)"
   ]
  },
  {
   "cell_type": "code",
   "execution_count": 12,
   "metadata": {},
   "outputs": [
    {
     "data": {
      "text/plain": [
       "array([111145.20387789, 100011.09115512, 111145.20387789, 111145.20387789,\n",
       "       111145.20387789, 121484.45374587, 121484.45374587, 121484.45374587,\n",
       "       111145.20387789, 111145.20387789, 111145.20387789, 121484.45374587,\n",
       "       111145.20387789, 100011.09115512, 111145.20387789])"
      ]
     },
     "execution_count": 12,
     "metadata": {},
     "output_type": "execute_result"
    }
   ],
   "source": [
    "pred_y = mlr.predict(test_X)\n",
    "pred_y # getting worng values due to error in onehotencoding check once"
   ]
  },
  {
   "cell_type": "code",
   "execution_count": 13,
   "metadata": {},
   "outputs": [
    {
     "data": {
      "text/plain": [
       "array([103282.38, 144259.4 , 146121.95,  77798.83, 191050.39, 105008.31,\n",
       "        81229.06,  97483.56, 110352.25, 166187.94,  96778.92,  96479.51,\n",
       "       105733.54,  96712.8 , 124266.9 ])"
      ]
     },
     "execution_count": 13,
     "metadata": {},
     "output_type": "execute_result"
    }
   ],
   "source": [
    "test_Y"
   ]
  },
  {
   "cell_type": "code",
   "execution_count": 15,
   "metadata": {},
   "outputs": [
    {
     "data": {
      "text/plain": [
       "array([-2.62870752e+04, -1.88527912e+04, -2.05514846e+04, -1.72418246e+04,\n",
       "       -8.18545232e-12, -1.16035871e+04, -9.50420039e+03, -5.45696821e-12,\n",
       "       -6.81233796e+03, -7.25706039e+03, -6.33511039e+03, -3.35398372e+03,\n",
       "        1.45519152e-11,  2.91038305e-11,  4.45652404e-11,  3.63797881e-12,\n",
       "       -3.73587129e+03, -8.61083718e+02,  2.46441628e+03, -6.82660458e+03,\n",
       "       -8.18545232e-12, -8.03737959e+02, -1.81898940e-12,  7.27595761e-12,\n",
       "        9.09494702e-12,  6.15431295e+03, -4.31080458e+03,  8.99394628e+03,\n",
       "       -3.39047792e+03,  1.72646498e+04, -7.27595761e-11,  1.14320863e+04,\n",
       "        1.01467720e+04,  1.29530542e+03,  0.00000000e+00,  0.00000000e+00,\n",
       "        2.81086208e+03,  7.15248204e+03,  1.02424388e+04,  1.65829563e+04,\n",
       "        1.48691320e+04,  1.18355554e+04,  1.87038063e+04,  0.00000000e+00,\n",
       "        2.04725121e+04,  0.00000000e+00,  3.05936563e+04,  2.35924588e+04,\n",
       "       -3.35398372e+03, -2.62870752e+04,  0.00000000e+00, -6.33511039e+03,\n",
       "        0.00000000e+00,  0.00000000e+00,  0.00000000e+00,  0.00000000e+00,\n",
       "       -9.50420039e+03, -4.31080458e+03,  1.18355554e+04,  0.00000000e+00,\n",
       "        0.00000000e+00, -8.03737959e+02,  1.65829563e+04,  0.00000000e+00,\n",
       "        6.15431295e+03,  0.00000000e+00, -3.73587129e+03, -2.05514846e+04,\n",
       "       -4.26648456e+04, -7.25706039e+03,  2.04725121e+04,  8.99394628e+03,\n",
       "        2.81086208e+03,  0.00000000e+00, -1.88527912e+04, -6.81233796e+03,\n",
       "        1.01467720e+04, -1.72418246e+04,  0.00000000e+00, -8.61083718e+02,\n",
       "       -2.42144679e+04,  1.14320863e+04,  2.35924588e+04,  2.46441628e+03,\n",
       "        0.00000000e+00,  1.29530542e+03,  1.48691320e+04,  1.87038063e+04,\n",
       "        1.02424388e+04,  3.05936563e+04,  0.00000000e+00, -6.82660458e+03,\n",
       "        1.72646498e+04, -3.39047792e+03, -1.16035871e+04,  7.15248204e+03,\n",
       "        0.00000000e+00,  0.00000000e+00, -3.32368933e+04, -1.88527912e+04,\n",
       "       -1.16035871e+04, -1.72418246e+04, -4.26648456e+04, -8.61083718e+02,\n",
       "        0.00000000e+00, -3.73587129e+03, -6.82660458e+03,  0.00000000e+00,\n",
       "        1.87038063e+04,  0.00000000e+00,  2.46441628e+03, -4.31080458e+03,\n",
       "       -9.50420039e+03,  0.00000000e+00, -7.25706039e+03, -6.33511039e+03,\n",
       "        0.00000000e+00, -3.35398372e+03, -6.81233796e+03,  0.00000000e+00,\n",
       "        0.00000000e+00,  0.00000000e+00,  0.00000000e+00,  0.00000000e+00,\n",
       "        1.01467720e+04,  1.14320863e+04,  7.15248204e+03,  2.81086208e+03,\n",
       "        8.99394628e+03,  1.29530542e+03,  0.00000000e+00, -2.05514846e+04,\n",
       "        6.15431295e+03, -3.39047792e+03,  0.00000000e+00, -8.03737959e+02,\n",
       "        1.65829563e+04,  1.02424388e+04,  1.48691320e+04,  0.00000000e+00,\n",
       "        1.18355554e+04,  0.00000000e+00,  2.04725121e+04,  0.00000000e+00,\n",
       "        3.05936563e+04,  2.35924588e+04, -1.08691584e+04,  2.64954285e+02,\n",
       "        1.06042042e+04])"
      ]
     },
     "execution_count": 15,
     "metadata": {},
     "output_type": "execute_result"
    }
   ],
   "source": [
    "mlr.coef_ # this is wrong check"
   ]
  },
  {
   "cell_type": "code",
   "execution_count": 16,
   "metadata": {},
   "outputs": [
    {
     "data": {
      "text/plain": [
       "110880.24959295928"
      ]
     },
     "execution_count": 16,
     "metadata": {},
     "output_type": "execute_result"
    }
   ],
   "source": [
    "mlr.intercept_"
   ]
  },
  {
   "cell_type": "code",
   "execution_count": 18,
   "metadata": {},
   "outputs": [],
   "source": [
    "y =b0x0 + b1x1 + b2x2 + .... + bnxn # if x0 =1 then b0x0 = b0 so a column should be of unit values"
   ]
  },
  {
   "cell_type": "code",
   "execution_count": 20,
   "metadata": {},
   "outputs": [],
   "source": [
    "real_X = np.append(arr = np.ones((50,1)).astype(int),values = real_X , axis =1)"
   ]
  },
  {
   "cell_type": "code",
   "execution_count": 23,
   "metadata": {},
   "outputs": [
    {
     "data": {
      "text/plain": [
       "array([1., 1., 1., 1., 1., 1., 1., 1., 1., 1., 1., 1., 1., 1., 1., 1., 1.,\n",
       "       1., 1., 1., 1., 1., 1., 1., 1., 1., 1., 1., 1., 1., 1., 1., 1., 1.,\n",
       "       1., 1., 1., 1., 1., 1., 1., 1., 1., 1., 1., 1., 1., 1., 1., 1.])"
      ]
     },
     "execution_count": 23,
     "metadata": {},
     "output_type": "execute_result"
    }
   ],
   "source": [
    "real_X[:,0]"
   ]
  },
  {
   "cell_type": "code",
   "execution_count": 24,
   "metadata": {},
   "outputs": [],
   "source": [
    "x_opt = real_X[:,[0,1,2,3,4,5]]"
   ]
  },
  {
   "cell_type": "code",
   "execution_count": 2,
   "metadata": {},
   "outputs": [],
   "source": [
    "reg_OLS = sm.OLS(endog =real_Y ,exog = x_opt).fit() # getting error"
   ]
  },
  {
   "cell_type": "code",
   "execution_count": 1,
   "metadata": {},
   "outputs": [],
   "source": [
    "reg_OLS.summary()"
   ]
  },
  {
   "cell_type": "code",
   "execution_count": null,
   "metadata": {},
   "outputs": [],
   "source": [
    "# remove P>|t| of 0.05 remove that x and fit again we got x2 = 0.99\n",
    "x_opt = real_X[:,[0,1,3,4,5]]\n",
    "reg_OLS = sm.OLS(endog =real_Y ,exog = x_opt).fit()\n",
    "reg_OLS.summary() \n",
    "# continue this till P is <|"
   ]
  }
 ],
 "metadata": {
  "kernelspec": {
   "display_name": "Python 3",
   "language": "python",
   "name": "python3"
  },
  "language_info": {
   "codemirror_mode": {
    "name": "ipython",
    "version": 3
   },
   "file_extension": ".py",
   "mimetype": "text/x-python",
   "name": "python",
   "nbconvert_exporter": "python",
   "pygments_lexer": "ipython3",
   "version": "3.7.3"
  }
 },
 "nbformat": 4,
 "nbformat_minor": 2
}
